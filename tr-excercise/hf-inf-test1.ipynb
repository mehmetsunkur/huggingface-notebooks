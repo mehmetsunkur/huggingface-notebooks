{
 "cells": [
  {
   "cell_type": "code",
   "execution_count": null,
   "id": "c300fbbb-e949-409c-a89a-0d1db33a1ea8",
   "metadata": {
    "tags": []
   },
   "outputs": [],
   "source": [
    "!pip install openai"
   ]
  },
  {
   "cell_type": "code",
   "execution_count": 6,
   "id": "b3510b46-8c5a-4570-8fae-483c667c75a7",
   "metadata": {
    "tags": []
   },
   "outputs": [],
   "source": [
    "import requests\n",
    "\n",
    "API_URL = \"https://fw48optmjqdwd2q4.eu-west-1.aws.endpoints.huggingface.cloud\"\n",
    "headers = {\n",
    "\t\"Accept\" : \"application/json\",\n",
    "\t\"Authorization\": \"Bearer xxx\",\n",
    "\t\"Content-Type\": \"application/json\" \n",
    "}\n",
    "\n",
    "def query(payload):\n",
    "\tresponse = requests.post(API_URL, headers=headers, json=payload)\n",
    "\treturn response.json()\n",
    "\n",
    "output = query({\n",
    "\t\"inputs\": \"Can you please let us know more details about your \",\n",
    "\t\"parameters\": {}\n",
    "})\n"
   ]
  },
  {
   "cell_type": "code",
   "execution_count": 5,
   "id": "2c89f2c6-be8e-46b0-80ca-964cd7a19bd0",
   "metadata": {
    "tags": []
   },
   "outputs": [
    {
     "name": "stdout",
     "output_type": "stream",
     "text": [
      "Deep Learning, yapay sinir ağlarına dayandığı için derin öğrenme ile çok benzerdir. Buradaki temel fark, derin öğrenmenin 'deep (yarıiletken) öğrenme' adı verilen bir alt kümede yer alması sorusu.\n",
      "\n",
      "HTML sayfanıza derin öğrenme kavramları eklemek için aşağıdaki açıklamaları ekleyebilirsiniz:\n",
      "\n",
      "1. İntegrat\n",
      "2. Toksik müdahalesi\n",
      "3. Yeşil gradyan\n",
      "4. Maksimum olarak gerçekleştirilme\n",
      "5. Diferansiyel gradyan maksimizasyonu\n",
      "6. Egbert eğrileri\n",
      "7. Yapıcı salınımlı ağ\n",
      "8. Daha derin\n",
      "9. Yeniden deney\n",
      "10. Sonuç havuzlama\n",
      "11. Bilgiyi yoğunlaştırmak\n",
      "12. Stok ötesi Maksimum Olasılıklar\n",
      "\n",
      "Bilgileri pazarlama ve benimseme amacıyla kaynak değer görmesi için HTML sayfanıza dahil etme konusunda yardıma ihtiyacınız varsa lütfen bana bildirin.<|im_end|>"
     ]
    }
   ],
   "source": [
    "# If necessary, install the openai Python library by running \n",
    "# pip install openai\n",
    "\n",
    "from openai import OpenAI\n",
    "\n",
    "client = OpenAI(\n",
    "\tbase_url=\"https://fw48optmjqdwd2q4.eu-west-1.aws.endpoints.huggingface.cloud/v1/\", \n",
    "\tapi_key=\"xxx\" \n",
    ")\n",
    "\n",
    "chat_completion = client.chat.completions.create(\n",
    "\tmodel=\"tgi\",\n",
    "\tmessages=[\n",
    "    {\n",
    "        \"role\": \"user\",\n",
    "        \"content\": \"What is deep learning?\"\n",
    "    }\n",
    "],\n",
    "\tstream=True,\n",
    "\tmax_tokens=500\n",
    ")\n",
    "\n",
    "for message in chat_completion:\n",
    "\tprint(message.choices[0].delta.content, end=\"\")"
   ]
  },
  {
   "cell_type": "code",
   "execution_count": null,
   "id": "fdefa6e5-46f1-4b60-8b2b-8715e3f54ed8",
   "metadata": {},
   "outputs": [],
   "source": []
  }
 ],
 "metadata": {
  "kernelspec": {
   "display_name": "default:Python",
   "language": "python",
   "name": "conda-env-default-py"
  },
  "language_info": {
   "codemirror_mode": {
    "name": "ipython",
    "version": 3
   },
   "file_extension": ".py",
   "mimetype": "text/x-python",
   "name": "python",
   "nbconvert_exporter": "python",
   "pygments_lexer": "ipython3",
   "version": "3.9.16"
  }
 },
 "nbformat": 4,
 "nbformat_minor": 5
}
